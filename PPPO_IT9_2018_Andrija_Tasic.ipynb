{
  "nbformat": 4,
  "nbformat_minor": 0,
  "metadata": {
    "colab": {
      "provenance": [],
      "authorship_tag": "ABX9TyP6QkgaYsj5usK+SbGYTHA6",
      "include_colab_link": true
    },
    "kernelspec": {
      "name": "python3",
      "display_name": "Python 3"
    },
    "language_info": {
      "name": "python"
    }
  },
  "cells": [
    {
      "cell_type": "markdown",
      "metadata": {
        "id": "view-in-github",
        "colab_type": "text"
      },
      "source": [
        "<a href=\"https://colab.research.google.com/github/AndrijaTasic/PPPO_IT9_2018/blob/main/PPPO_IT9_2018_Andrija_Tasic.ipynb\" target=\"_parent\"><img src=\"https://colab.research.google.com/assets/colab-badge.svg\" alt=\"Open In Colab\"/></a>"
      ]
    },
    {
      "cell_type": "markdown",
      "source": [
        "**Student**: Andrija Tasić IT9/2018 <br>\n",
        "**Predmet**: Principi prezentacije i prepoznavanje oblika <br>\n",
        "**Tema projektnog zadatka**: Detekcija godina, pola i emocija <br>\n",
        "\n",
        "Duboko učenje je pronašlo ogromnu primenu u oblastima kompjuterske vizije (Computer vision - CV). Neke od najvažnijih primena kompjuterske vizije su u oblastima koje se bave podacima o licu. Prepoznavanje i detekcija lica se široko koriste u aplikacijama zasnovanim na bezbednosti.\n",
        "\n",
        "Kompjuterska vizija (Computer vision - CV) je polje veštačke inteligencije koje obučava računare da tumače i razumeju vizuelni svet. Koristeći digitalne slike sa kamera i video zapisa i modele dubokog učenja, mašine mogu precizno da identifikuju i klasifikuju objekte — a zatim reaguju na ono što „vide“.\n",
        "\n",
        "Za samu izradu projekta, biće korišćeni predefinisani modeli upotrebom Transfer Learning-a, odnosno tehnike gde se pre-trained modeli prilagođavaju zadatku zamenom poslednjeg layer-a, kako bi odgovarao broju kategorija koje su moguće za dati dataset. Kao modeli, na osnovu prethodno pokazanih dobrih iskustava za rešavanje sličnih problema klasifikacije, izabrani su CNN (Convolutional Neural Network) modeli VGG16 i ResNet50."
      ],
      "metadata": {
        "id": "ve9N3QKKgCop"
      }
    },
    {
      "cell_type": "markdown",
      "source": [
        "# Učitavanje i pregled podataka"
      ],
      "metadata": {
        "id": "NcOpZWSkgvBz"
      }
    },
    {
      "cell_type": "markdown",
      "source": [
        "Najpre je potrebno učitati dataset, koji sadrži slike koje će kasnije biti korišćene za trening i validaciju odnosno testiranje. Podaci su podeljeni u pet foldera od kojih svaki predstavlja folder sa slikama određene poznate ličnosti. \n",
        "Ličnosti čije ćemo slike koristiti su:\n",
        "\n",
        "- Ben Aflek\n",
        "- Elton John\n",
        "- Jerry Seinfeld\n",
        "- Madonna\n",
        "- Mindy Kaling"
      ],
      "metadata": {
        "id": "2CRmJbo1gz0z"
      }
    },
    {
      "cell_type": "code",
      "execution_count": 153,
      "metadata": {
        "colab": {
          "base_uri": "https://localhost:8080/"
        },
        "id": "5vu9MshNEgDl",
        "outputId": "a76ccc40-6e7b-4551-c363-9be27e1bd282"
      },
      "outputs": [
        {
          "output_type": "stream",
          "name": "stdout",
          "text": [
            "--2022-09-26 21:45:20--  https://docs.google.com/uc?export=download&confirm=&id=1vIyvXtTerVUWVuRRPGcFgXTkgUgM-d9U\n",
            "Resolving docs.google.com (docs.google.com)... 74.125.31.138, 74.125.31.101, 74.125.31.102, ...\n",
            "Connecting to docs.google.com (docs.google.com)|74.125.31.138|:443... connected.\n",
            "HTTP request sent, awaiting response... 303 See Other\n",
            "Location: https://doc-00-64-docs.googleusercontent.com/docs/securesc/ha0ro937gcuc7l7deffksulhg5h7mbp1/1pp04k4ral49j2rdlaa2ceoffi5gg9k5/1664228700000/06049624160957438625/*/1vIyvXtTerVUWVuRRPGcFgXTkgUgM-d9U?e=download&uuid=6c8ea35c-b10f-4775-bc4c-e1ab326e50ff [following]\n",
            "Warning: wildcards not supported in HTTP.\n",
            "--2022-09-26 21:45:20--  https://doc-00-64-docs.googleusercontent.com/docs/securesc/ha0ro937gcuc7l7deffksulhg5h7mbp1/1pp04k4ral49j2rdlaa2ceoffi5gg9k5/1664228700000/06049624160957438625/*/1vIyvXtTerVUWVuRRPGcFgXTkgUgM-d9U?e=download&uuid=6c8ea35c-b10f-4775-bc4c-e1ab326e50ff\n",
            "Resolving doc-00-64-docs.googleusercontent.com (doc-00-64-docs.googleusercontent.com)... 74.125.196.132, 2607:f8b0:400c:c36::84\n",
            "Connecting to doc-00-64-docs.googleusercontent.com (doc-00-64-docs.googleusercontent.com)|74.125.196.132|:443... connected.\n",
            "HTTP request sent, awaiting response... 200 OK\n",
            "Length: 5275912 (5.0M) [application/x-zip-compressed]\n",
            "Saving to: ‘images.zip’\n",
            "\n",
            "images.zip          100%[===================>]   5.03M  --.-KB/s    in 0.02s   \n",
            "\n",
            "2022-09-26 21:45:20 (209 MB/s) - ‘images.zip’ saved [5275912/5275912]\n",
            "\n"
          ]
        }
      ],
      "source": [
        "!wget --load-cookies /tmp/cookies.txt \"https://docs.google.com/uc?export=download&confirm=$(wget --quiet --save-cookies /tmp/cookies.txt --keep-session-cookies --no-check-certificate 'https://docs.google.com/uc?export=download&id=1vIyvXtTerVUWVuRRPGcFgXTkgUgM-d9U' -O- | sed -rn 's/.*confirm=([0-9A-Za-z_]+).*/\\1\\n/p')&id=1vIyvXtTerVUWVuRRPGcFgXTkgUgM-d9U\" -O images.zip && rm -rf /tmp/cookies.txt"
      ]
    },
    {
      "cell_type": "code",
      "source": [
        "!unzip images.zip"
      ],
      "metadata": {
        "colab": {
          "base_uri": "https://localhost:8080/"
        },
        "id": "R9qyDXiIA0EJ",
        "outputId": "8fa6e477-8d36-4704-a64b-19de736d9fec"
      },
      "execution_count": 154,
      "outputs": [
        {
          "output_type": "stream",
          "name": "stdout",
          "text": [
            "Archive:  images.zip\n",
            "replace data/train/ben_afflek/httpcsvkmeuaeccjpg.jpg? [y]es, [n]o, [A]ll, [N]one, [r]ename: N\n"
          ]
        }
      ]
    },
    {
      "cell_type": "markdown",
      "source": [
        "Nakon što su podaci učitani i raspakovani, primećeno je da uz dataset ne postoji nijedan .csv fajl u kome bi se nalazile informacije o godinama, polu, emocijama na datim slikama, tako da je potrebno ručno kreirati .csv fajl sa određenim podacima za dalje treniranje i validaciju. \n",
        "\n",
        "Nije lako odrediti godine ličnostima sa slika, tako da će i ovde podaci biti približni, samim tim krajnji rezultati će u određenoj meri biti lošiji zbog toga."
      ],
      "metadata": {
        "id": "DQkFZJMHhpaF"
      }
    },
    {
      "cell_type": "code",
      "source": [
        "import numpy as np\n",
        "import matplotlib.pylab as plt\n",
        "import os\n",
        "import pandas as pd"
      ],
      "metadata": {
        "id": "RaDGN2SYA1lr"
      },
      "execution_count": 155,
      "outputs": []
    },
    {
      "cell_type": "code",
      "execution_count": 156,
      "metadata": {
        "colab": {
          "base_uri": "https://localhost:8080/"
        },
        "id": "xHIbyy6-czhT",
        "outputId": "8f310a98-61fb-4583-ca8c-a9496afbfc7a"
      },
      "outputs": [
        {
          "output_type": "stream",
          "name": "stdout",
          "text": [
            "--2022-09-26 21:45:28--  https://docs.google.com/uc?export=download&confirm=&id=11mztijLWMV1NfPusiOyY6dPMy87bp2Rp\n",
            "Resolving docs.google.com (docs.google.com)... 74.125.31.138, 74.125.31.101, 74.125.31.102, ...\n",
            "Connecting to docs.google.com (docs.google.com)|74.125.31.138|:443... connected.\n",
            "HTTP request sent, awaiting response... 303 See Other\n",
            "Location: https://doc-0s-a8-docs.googleusercontent.com/docs/securesc/q9os3rf3r30gvc1n5o6m6fqd5k33v1il/qqlvgdql7cvf7bt2peflg4cako5l1i39/1664228700000/08973908389887696716/06469071510000829808Z/11mztijLWMV1NfPusiOyY6dPMy87bp2Rp?e=download&uuid=ae647cfc-f4a8-4e90-8e78-d2de4b714cf5 [following]\n",
            "--2022-09-26 21:45:28--  https://doc-0s-a8-docs.googleusercontent.com/docs/securesc/q9os3rf3r30gvc1n5o6m6fqd5k33v1il/qqlvgdql7cvf7bt2peflg4cako5l1i39/1664228700000/08973908389887696716/06469071510000829808Z/11mztijLWMV1NfPusiOyY6dPMy87bp2Rp?e=download&uuid=ae647cfc-f4a8-4e90-8e78-d2de4b714cf5\n",
            "Resolving doc-0s-a8-docs.googleusercontent.com (doc-0s-a8-docs.googleusercontent.com)... 74.125.196.132, 2607:f8b0:400c:c36::84\n",
            "Connecting to doc-0s-a8-docs.googleusercontent.com (doc-0s-a8-docs.googleusercontent.com)|74.125.196.132|:443... connected.\n",
            "HTTP request sent, awaiting response... 302 Found\n",
            "Location: https://drive.google.com/nonceSigner?nonce=25q8iho885dr0&continue=https://doc-0s-a8-docs.googleusercontent.com/docs/securesc/q9os3rf3r30gvc1n5o6m6fqd5k33v1il/qqlvgdql7cvf7bt2peflg4cako5l1i39/1664228700000/08973908389887696716/06469071510000829808Z/11mztijLWMV1NfPusiOyY6dPMy87bp2Rp?e%3Ddownload%26uuid%3Dae647cfc-f4a8-4e90-8e78-d2de4b714cf5&hash=4r3167thic4hrgkape4npb89bbs1a00r [following]\n",
            "--2022-09-26 21:45:28--  https://drive.google.com/nonceSigner?nonce=25q8iho885dr0&continue=https://doc-0s-a8-docs.googleusercontent.com/docs/securesc/q9os3rf3r30gvc1n5o6m6fqd5k33v1il/qqlvgdql7cvf7bt2peflg4cako5l1i39/1664228700000/08973908389887696716/06469071510000829808Z/11mztijLWMV1NfPusiOyY6dPMy87bp2Rp?e%3Ddownload%26uuid%3Dae647cfc-f4a8-4e90-8e78-d2de4b714cf5&hash=4r3167thic4hrgkape4npb89bbs1a00r\n",
            "Resolving drive.google.com (drive.google.com)... 108.177.13.113, 108.177.13.139, 108.177.13.138, ...\n",
            "Connecting to drive.google.com (drive.google.com)|108.177.13.113|:443... connected.\n",
            "HTTP request sent, awaiting response... 302 Found\n",
            "Location: https://doc-0s-a8-docs.googleusercontent.com/docs/securesc/q9os3rf3r30gvc1n5o6m6fqd5k33v1il/qqlvgdql7cvf7bt2peflg4cako5l1i39/1664228700000/08973908389887696716/06469071510000829808Z/11mztijLWMV1NfPusiOyY6dPMy87bp2Rp?e=download&uuid=ae647cfc-f4a8-4e90-8e78-d2de4b714cf5&nonce=25q8iho885dr0&user=06469071510000829808Z&hash=aimfs1n00euk4ke01l9hjh1s5lput18u [following]\n",
            "--2022-09-26 21:45:28--  https://doc-0s-a8-docs.googleusercontent.com/docs/securesc/q9os3rf3r30gvc1n5o6m6fqd5k33v1il/qqlvgdql7cvf7bt2peflg4cako5l1i39/1664228700000/08973908389887696716/06469071510000829808Z/11mztijLWMV1NfPusiOyY6dPMy87bp2Rp?e=download&uuid=ae647cfc-f4a8-4e90-8e78-d2de4b714cf5&nonce=25q8iho885dr0&user=06469071510000829808Z&hash=aimfs1n00euk4ke01l9hjh1s5lput18u\n",
            "Connecting to doc-0s-a8-docs.googleusercontent.com (doc-0s-a8-docs.googleusercontent.com)|74.125.196.132|:443... connected.\n",
            "HTTP request sent, awaiting response... 200 OK\n",
            "Length: 9552 (9.3K) [text/csv]\n",
            "Saving to: ‘pppo_labels_train.csv’\n",
            "\n",
            "pppo_labels_train.c 100%[===================>]   9.33K  --.-KB/s    in 0s      \n",
            "\n",
            "2022-09-26 21:45:28 (42.3 MB/s) - ‘pppo_labels_train.csv’ saved [9552/9552]\n",
            "\n"
          ]
        }
      ],
      "source": [
        "!wget --load-cookies /tmp/cookies.txt \"https://docs.google.com/uc?export=download&confirm=$(wget --quiet --save-cookies /tmp/cookies.txt --keep-session-cookies --no-check-certificate 'https://drive.google.com/file/d/19ti0BkjwkLhEYfLF2sXm9715_xhJk033/view?usp=sharing' -O- | sed -rn 's/.*confirm=([0-9A-Za-z_]+).*/\\1\\n/p')&id=11mztijLWMV1NfPusiOyY6dPMy87bp2Rp\" -O pppo_labels_train.csv && rm -rf /tmp/cookies.txt"
      ]
    },
    {
      "cell_type": "code",
      "execution_count": 157,
      "metadata": {
        "colab": {
          "base_uri": "https://localhost:8080/"
        },
        "id": "eyYm6qhWczp2",
        "outputId": "eb05f85e-2975-4d26-ca82-c89eacc37f5c"
      },
      "outputs": [
        {
          "output_type": "stream",
          "name": "stdout",
          "text": [
            "--2022-09-26 21:45:29--  https://docs.google.com/uc?export=download&confirm=&id=1r6QTjIqFuaijI1Xuh7Jn3ySHOKLuGNU2\n",
            "Resolving docs.google.com (docs.google.com)... 74.125.31.138, 74.125.31.101, 74.125.31.102, ...\n",
            "Connecting to docs.google.com (docs.google.com)|74.125.31.138|:443... connected.\n",
            "HTTP request sent, awaiting response... 303 See Other\n",
            "Location: https://doc-0k-bs-docs.googleusercontent.com/docs/securesc/ha0ro937gcuc7l7deffksulhg5h7mbp1/5a4l3qd5akvih40h23phebdvhk16a1p2/1664228700000/08973908389887696716/*/1r6QTjIqFuaijI1Xuh7Jn3ySHOKLuGNU2?e=download&uuid=a2c6e88b-8368-4069-b84f-edde98d36316 [following]\n",
            "Warning: wildcards not supported in HTTP.\n",
            "--2022-09-26 21:45:29--  https://doc-0k-bs-docs.googleusercontent.com/docs/securesc/ha0ro937gcuc7l7deffksulhg5h7mbp1/5a4l3qd5akvih40h23phebdvhk16a1p2/1664228700000/08973908389887696716/*/1r6QTjIqFuaijI1Xuh7Jn3ySHOKLuGNU2?e=download&uuid=a2c6e88b-8368-4069-b84f-edde98d36316\n",
            "Resolving doc-0k-bs-docs.googleusercontent.com (doc-0k-bs-docs.googleusercontent.com)... 74.125.196.132, 2607:f8b0:400c:c36::84\n",
            "Connecting to doc-0k-bs-docs.googleusercontent.com (doc-0k-bs-docs.googleusercontent.com)|74.125.196.132|:443... connected.\n",
            "HTTP request sent, awaiting response... 200 OK\n",
            "Length: 2711 (2.6K) [text/csv]\n",
            "Saving to: ‘pppo_labels_val.csv’\n",
            "\n",
            "pppo_labels_val.csv 100%[===================>]   2.65K  --.-KB/s    in 0s      \n",
            "\n",
            "2022-09-26 21:45:29 (104 MB/s) - ‘pppo_labels_val.csv’ saved [2711/2711]\n",
            "\n"
          ]
        }
      ],
      "source": [
        "!wget --load-cookies /tmp/cookies.txt \"https://docs.google.com/uc?export=download&confirm=$(wget --quiet --save-cookies /tmp/cookies.txt --keep-session-cookies --no-check-certificate 'https://docs.google.com/uc?export=download&id=1r6QTjIqFuaijI1Xuh7Jn3ySHOKLuGNU2' -O- | sed -rn 's/.*confirm=([0-9A-Za-z_]+).*/\\1\\n/p')&id=1r6QTjIqFuaijI1Xuh7Jn3ySHOKLuGNU2\" -O pppo_labels_val.csv && rm -rf /tmp/cookies.txt"
      ]
    },
    {
      "cell_type": "code",
      "execution_count": 158,
      "metadata": {
        "colab": {
          "base_uri": "https://localhost:8080/",
          "height": 206
        },
        "id": "uXlhcGRZczut",
        "outputId": "b2d03ef9-0695-4ecb-ce7b-169cd9a11d7e"
      },
      "outputs": [
        {
          "output_type": "execute_result",
          "data": {
            "text/plain": [
              "                                          image_path  gender  age  emotion\n",
              "0  /content/data/train/ben_afflek/httpcsvkmeuaecc...       0    1        3\n",
              "1  /content/data/train/ben_afflek/httpimagesfanda...       0    2        4\n",
              "2  /content/data/train/ben_afflek/httpssmediacach...       0    2        6\n",
              "3  /content/data/train/ben_afflek/httpssmediacach...       0    1        6\n",
              "4  /content/data/train/ben_afflek/httpssmediacach...       0    2        3"
            ],
            "text/html": [
              "\n",
              "  <div id=\"df-1666f54c-8012-4023-bc2d-9e65bce2c339\">\n",
              "    <div class=\"colab-df-container\">\n",
              "      <div>\n",
              "<style scoped>\n",
              "    .dataframe tbody tr th:only-of-type {\n",
              "        vertical-align: middle;\n",
              "    }\n",
              "\n",
              "    .dataframe tbody tr th {\n",
              "        vertical-align: top;\n",
              "    }\n",
              "\n",
              "    .dataframe thead th {\n",
              "        text-align: right;\n",
              "    }\n",
              "</style>\n",
              "<table border=\"1\" class=\"dataframe\">\n",
              "  <thead>\n",
              "    <tr style=\"text-align: right;\">\n",
              "      <th></th>\n",
              "      <th>image_path</th>\n",
              "      <th>gender</th>\n",
              "      <th>age</th>\n",
              "      <th>emotion</th>\n",
              "    </tr>\n",
              "  </thead>\n",
              "  <tbody>\n",
              "    <tr>\n",
              "      <th>0</th>\n",
              "      <td>/content/data/train/ben_afflek/httpcsvkmeuaecc...</td>\n",
              "      <td>0</td>\n",
              "      <td>1</td>\n",
              "      <td>3</td>\n",
              "    </tr>\n",
              "    <tr>\n",
              "      <th>1</th>\n",
              "      <td>/content/data/train/ben_afflek/httpimagesfanda...</td>\n",
              "      <td>0</td>\n",
              "      <td>2</td>\n",
              "      <td>4</td>\n",
              "    </tr>\n",
              "    <tr>\n",
              "      <th>2</th>\n",
              "      <td>/content/data/train/ben_afflek/httpssmediacach...</td>\n",
              "      <td>0</td>\n",
              "      <td>2</td>\n",
              "      <td>6</td>\n",
              "    </tr>\n",
              "    <tr>\n",
              "      <th>3</th>\n",
              "      <td>/content/data/train/ben_afflek/httpssmediacach...</td>\n",
              "      <td>0</td>\n",
              "      <td>1</td>\n",
              "      <td>6</td>\n",
              "    </tr>\n",
              "    <tr>\n",
              "      <th>4</th>\n",
              "      <td>/content/data/train/ben_afflek/httpssmediacach...</td>\n",
              "      <td>0</td>\n",
              "      <td>2</td>\n",
              "      <td>3</td>\n",
              "    </tr>\n",
              "  </tbody>\n",
              "</table>\n",
              "</div>\n",
              "      <button class=\"colab-df-convert\" onclick=\"convertToInteractive('df-1666f54c-8012-4023-bc2d-9e65bce2c339')\"\n",
              "              title=\"Convert this dataframe to an interactive table.\"\n",
              "              style=\"display:none;\">\n",
              "        \n",
              "  <svg xmlns=\"http://www.w3.org/2000/svg\" height=\"24px\"viewBox=\"0 0 24 24\"\n",
              "       width=\"24px\">\n",
              "    <path d=\"M0 0h24v24H0V0z\" fill=\"none\"/>\n",
              "    <path d=\"M18.56 5.44l.94 2.06.94-2.06 2.06-.94-2.06-.94-.94-2.06-.94 2.06-2.06.94zm-11 1L8.5 8.5l.94-2.06 2.06-.94-2.06-.94L8.5 2.5l-.94 2.06-2.06.94zm10 10l.94 2.06.94-2.06 2.06-.94-2.06-.94-.94-2.06-.94 2.06-2.06.94z\"/><path d=\"M17.41 7.96l-1.37-1.37c-.4-.4-.92-.59-1.43-.59-.52 0-1.04.2-1.43.59L10.3 9.45l-7.72 7.72c-.78.78-.78 2.05 0 2.83L4 21.41c.39.39.9.59 1.41.59.51 0 1.02-.2 1.41-.59l7.78-7.78 2.81-2.81c.8-.78.8-2.07 0-2.86zM5.41 20L4 18.59l7.72-7.72 1.47 1.35L5.41 20z\"/>\n",
              "  </svg>\n",
              "      </button>\n",
              "      \n",
              "  <style>\n",
              "    .colab-df-container {\n",
              "      display:flex;\n",
              "      flex-wrap:wrap;\n",
              "      gap: 12px;\n",
              "    }\n",
              "\n",
              "    .colab-df-convert {\n",
              "      background-color: #E8F0FE;\n",
              "      border: none;\n",
              "      border-radius: 50%;\n",
              "      cursor: pointer;\n",
              "      display: none;\n",
              "      fill: #1967D2;\n",
              "      height: 32px;\n",
              "      padding: 0 0 0 0;\n",
              "      width: 32px;\n",
              "    }\n",
              "\n",
              "    .colab-df-convert:hover {\n",
              "      background-color: #E2EBFA;\n",
              "      box-shadow: 0px 1px 2px rgba(60, 64, 67, 0.3), 0px 1px 3px 1px rgba(60, 64, 67, 0.15);\n",
              "      fill: #174EA6;\n",
              "    }\n",
              "\n",
              "    [theme=dark] .colab-df-convert {\n",
              "      background-color: #3B4455;\n",
              "      fill: #D2E3FC;\n",
              "    }\n",
              "\n",
              "    [theme=dark] .colab-df-convert:hover {\n",
              "      background-color: #434B5C;\n",
              "      box-shadow: 0px 1px 3px 1px rgba(0, 0, 0, 0.15);\n",
              "      filter: drop-shadow(0px 1px 2px rgba(0, 0, 0, 0.3));\n",
              "      fill: #FFFFFF;\n",
              "    }\n",
              "  </style>\n",
              "\n",
              "      <script>\n",
              "        const buttonEl =\n",
              "          document.querySelector('#df-1666f54c-8012-4023-bc2d-9e65bce2c339 button.colab-df-convert');\n",
              "        buttonEl.style.display =\n",
              "          google.colab.kernel.accessAllowed ? 'block' : 'none';\n",
              "\n",
              "        async function convertToInteractive(key) {\n",
              "          const element = document.querySelector('#df-1666f54c-8012-4023-bc2d-9e65bce2c339');\n",
              "          const dataTable =\n",
              "            await google.colab.kernel.invokeFunction('convertToInteractive',\n",
              "                                                     [key], {});\n",
              "          if (!dataTable) return;\n",
              "\n",
              "          const docLinkHtml = 'Like what you see? Visit the ' +\n",
              "            '<a target=\"_blank\" href=https://colab.research.google.com/notebooks/data_table.ipynb>data table notebook</a>'\n",
              "            + ' to learn more about interactive tables.';\n",
              "          element.innerHTML = '';\n",
              "          dataTable['output_type'] = 'display_data';\n",
              "          await google.colab.output.renderOutput(dataTable, element);\n",
              "          const docLink = document.createElement('div');\n",
              "          docLink.innerHTML = docLinkHtml;\n",
              "          element.appendChild(docLink);\n",
              "        }\n",
              "      </script>\n",
              "    </div>\n",
              "  </div>\n",
              "  "
            ]
          },
          "metadata": {},
          "execution_count": 158
        }
      ],
      "source": [
        "train_data = pd.read_csv('pppo_labels_train.csv')\n",
        "train_data.head()"
      ]
    },
    {
      "cell_type": "code",
      "source": [
        "print(\"Broj slika za treniranje:\")\n",
        "len(train_data)"
      ],
      "metadata": {
        "colab": {
          "base_uri": "https://localhost:8080/"
        },
        "id": "zs0cgvgAA1wL",
        "outputId": "2074c31f-bfcd-458b-ca37-c3cdcfd12aaa"
      },
      "execution_count": 159,
      "outputs": [
        {
          "output_type": "stream",
          "name": "stdout",
          "text": [
            "Broj slika za treniranje:\n"
          ]
        },
        {
          "output_type": "execute_result",
          "data": {
            "text/plain": [
              "93"
            ]
          },
          "metadata": {},
          "execution_count": 159
        }
      ]
    },
    {
      "cell_type": "code",
      "source": [
        "val_data = pd.read_csv('pppo_labels_val.csv')\n",
        "val_data.head()"
      ],
      "metadata": {
        "colab": {
          "base_uri": "https://localhost:8080/",
          "height": 206
        },
        "id": "PYgApqM-A1ym",
        "outputId": "94e0c0dd-44be-446d-aa8a-f93e91353c25"
      },
      "execution_count": 160,
      "outputs": [
        {
          "output_type": "execute_result",
          "data": {
            "text/plain": [
              "                                          image_path  gender  age  emotion\n",
              "0  /content/data/val/ben_afflek/httpabsolumentgra...       0    0        0\n",
              "1  /content/data/val/ben_afflek/httpafilesbiograp...       0    2        4\n",
              "2  /content/data/val/ben_afflek/httpbpblogspotcom...       0    2        4\n",
              "3  /content/data/val/ben_afflek/httpcsvkmeuaafdfj...       0    1        6\n",
              "4  /content/data/val/ben_afflek/httpcsvkmeuadecaf...       0    2        4"
            ],
            "text/html": [
              "\n",
              "  <div id=\"df-e407c008-d8bd-4f9f-8dc2-a2e2ece2a8aa\">\n",
              "    <div class=\"colab-df-container\">\n",
              "      <div>\n",
              "<style scoped>\n",
              "    .dataframe tbody tr th:only-of-type {\n",
              "        vertical-align: middle;\n",
              "    }\n",
              "\n",
              "    .dataframe tbody tr th {\n",
              "        vertical-align: top;\n",
              "    }\n",
              "\n",
              "    .dataframe thead th {\n",
              "        text-align: right;\n",
              "    }\n",
              "</style>\n",
              "<table border=\"1\" class=\"dataframe\">\n",
              "  <thead>\n",
              "    <tr style=\"text-align: right;\">\n",
              "      <th></th>\n",
              "      <th>image_path</th>\n",
              "      <th>gender</th>\n",
              "      <th>age</th>\n",
              "      <th>emotion</th>\n",
              "    </tr>\n",
              "  </thead>\n",
              "  <tbody>\n",
              "    <tr>\n",
              "      <th>0</th>\n",
              "      <td>/content/data/val/ben_afflek/httpabsolumentgra...</td>\n",
              "      <td>0</td>\n",
              "      <td>0</td>\n",
              "      <td>0</td>\n",
              "    </tr>\n",
              "    <tr>\n",
              "      <th>1</th>\n",
              "      <td>/content/data/val/ben_afflek/httpafilesbiograp...</td>\n",
              "      <td>0</td>\n",
              "      <td>2</td>\n",
              "      <td>4</td>\n",
              "    </tr>\n",
              "    <tr>\n",
              "      <th>2</th>\n",
              "      <td>/content/data/val/ben_afflek/httpbpblogspotcom...</td>\n",
              "      <td>0</td>\n",
              "      <td>2</td>\n",
              "      <td>4</td>\n",
              "    </tr>\n",
              "    <tr>\n",
              "      <th>3</th>\n",
              "      <td>/content/data/val/ben_afflek/httpcsvkmeuaafdfj...</td>\n",
              "      <td>0</td>\n",
              "      <td>1</td>\n",
              "      <td>6</td>\n",
              "    </tr>\n",
              "    <tr>\n",
              "      <th>4</th>\n",
              "      <td>/content/data/val/ben_afflek/httpcsvkmeuadecaf...</td>\n",
              "      <td>0</td>\n",
              "      <td>2</td>\n",
              "      <td>4</td>\n",
              "    </tr>\n",
              "  </tbody>\n",
              "</table>\n",
              "</div>\n",
              "      <button class=\"colab-df-convert\" onclick=\"convertToInteractive('df-e407c008-d8bd-4f9f-8dc2-a2e2ece2a8aa')\"\n",
              "              title=\"Convert this dataframe to an interactive table.\"\n",
              "              style=\"display:none;\">\n",
              "        \n",
              "  <svg xmlns=\"http://www.w3.org/2000/svg\" height=\"24px\"viewBox=\"0 0 24 24\"\n",
              "       width=\"24px\">\n",
              "    <path d=\"M0 0h24v24H0V0z\" fill=\"none\"/>\n",
              "    <path d=\"M18.56 5.44l.94 2.06.94-2.06 2.06-.94-2.06-.94-.94-2.06-.94 2.06-2.06.94zm-11 1L8.5 8.5l.94-2.06 2.06-.94-2.06-.94L8.5 2.5l-.94 2.06-2.06.94zm10 10l.94 2.06.94-2.06 2.06-.94-2.06-.94-.94-2.06-.94 2.06-2.06.94z\"/><path d=\"M17.41 7.96l-1.37-1.37c-.4-.4-.92-.59-1.43-.59-.52 0-1.04.2-1.43.59L10.3 9.45l-7.72 7.72c-.78.78-.78 2.05 0 2.83L4 21.41c.39.39.9.59 1.41.59.51 0 1.02-.2 1.41-.59l7.78-7.78 2.81-2.81c.8-.78.8-2.07 0-2.86zM5.41 20L4 18.59l7.72-7.72 1.47 1.35L5.41 20z\"/>\n",
              "  </svg>\n",
              "      </button>\n",
              "      \n",
              "  <style>\n",
              "    .colab-df-container {\n",
              "      display:flex;\n",
              "      flex-wrap:wrap;\n",
              "      gap: 12px;\n",
              "    }\n",
              "\n",
              "    .colab-df-convert {\n",
              "      background-color: #E8F0FE;\n",
              "      border: none;\n",
              "      border-radius: 50%;\n",
              "      cursor: pointer;\n",
              "      display: none;\n",
              "      fill: #1967D2;\n",
              "      height: 32px;\n",
              "      padding: 0 0 0 0;\n",
              "      width: 32px;\n",
              "    }\n",
              "\n",
              "    .colab-df-convert:hover {\n",
              "      background-color: #E2EBFA;\n",
              "      box-shadow: 0px 1px 2px rgba(60, 64, 67, 0.3), 0px 1px 3px 1px rgba(60, 64, 67, 0.15);\n",
              "      fill: #174EA6;\n",
              "    }\n",
              "\n",
              "    [theme=dark] .colab-df-convert {\n",
              "      background-color: #3B4455;\n",
              "      fill: #D2E3FC;\n",
              "    }\n",
              "\n",
              "    [theme=dark] .colab-df-convert:hover {\n",
              "      background-color: #434B5C;\n",
              "      box-shadow: 0px 1px 3px 1px rgba(0, 0, 0, 0.15);\n",
              "      filter: drop-shadow(0px 1px 2px rgba(0, 0, 0, 0.3));\n",
              "      fill: #FFFFFF;\n",
              "    }\n",
              "  </style>\n",
              "\n",
              "      <script>\n",
              "        const buttonEl =\n",
              "          document.querySelector('#df-e407c008-d8bd-4f9f-8dc2-a2e2ece2a8aa button.colab-df-convert');\n",
              "        buttonEl.style.display =\n",
              "          google.colab.kernel.accessAllowed ? 'block' : 'none';\n",
              "\n",
              "        async function convertToInteractive(key) {\n",
              "          const element = document.querySelector('#df-e407c008-d8bd-4f9f-8dc2-a2e2ece2a8aa');\n",
              "          const dataTable =\n",
              "            await google.colab.kernel.invokeFunction('convertToInteractive',\n",
              "                                                     [key], {});\n",
              "          if (!dataTable) return;\n",
              "\n",
              "          const docLinkHtml = 'Like what you see? Visit the ' +\n",
              "            '<a target=\"_blank\" href=https://colab.research.google.com/notebooks/data_table.ipynb>data table notebook</a>'\n",
              "            + ' to learn more about interactive tables.';\n",
              "          element.innerHTML = '';\n",
              "          dataTable['output_type'] = 'display_data';\n",
              "          await google.colab.output.renderOutput(dataTable, element);\n",
              "          const docLink = document.createElement('div');\n",
              "          docLink.innerHTML = docLinkHtml;\n",
              "          element.appendChild(docLink);\n",
              "        }\n",
              "      </script>\n",
              "    </div>\n",
              "  </div>\n",
              "  "
            ]
          },
          "metadata": {},
          "execution_count": 160
        }
      ]
    },
    {
      "cell_type": "code",
      "source": [
        "print(\"Broj slika za validaciju:\")\n",
        "len(val_data)"
      ],
      "metadata": {
        "colab": {
          "base_uri": "https://localhost:8080/"
        },
        "id": "NHnTO2PcA11Y",
        "outputId": "591e4c7c-823e-43f5-d168-7b610523b845"
      },
      "execution_count": 161,
      "outputs": [
        {
          "output_type": "stream",
          "name": "stdout",
          "text": [
            "Broj slika za validaciju:\n"
          ]
        },
        {
          "output_type": "execute_result",
          "data": {
            "text/plain": [
              "25"
            ]
          },
          "metadata": {},
          "execution_count": 161
        }
      ]
    },
    {
      "cell_type": "markdown",
      "source": [
        "Naš dataset ima svega 93 slike za treniranje i 25 slika za validaciju, što takođe predstavlja jedan od problema, s obzirom da je taj broj veoma mali.\n",
        "\n",
        "Na naredna tri grafika će biti prikazani podaci za treniranje na osnovu pola, godina i emocija."
      ],
      "metadata": {
        "id": "mX5kkqxRioD8"
      }
    },
    {
      "cell_type": "markdown",
      "source": [
        "Može se primetiti da na se na slikama nalazi veći broj osoba muškog pola. Muškarci će biti označeni 0, a žene brojem 1."
      ],
      "metadata": {
        "id": "3Z0uNr-tjQ4h"
      }
    },
    {
      "cell_type": "code",
      "source": [
        "import seaborn as sns\n",
        "\n",
        "sns_gender = sns.countplot(x=\"gender\", data=train_data)\n",
        "sns_gender.set_xticklabels(['Male', 'Female']);"
      ],
      "metadata": {
        "colab": {
          "base_uri": "https://localhost:8080/",
          "height": 279
        },
        "id": "XLwasOm2A14E",
        "outputId": "adaeb374-d554-4605-e171-e8cf76e1695a"
      },
      "execution_count": 162,
      "outputs": [
        {
          "output_type": "display_data",
          "data": {
            "text/plain": [
              "<Figure size 432x288 with 1 Axes>"
            ],
            "image/png": "[encoded data removed]"
          },
          "metadata": {
            "needs_background": "light"
          }
        }
      ]
    },
    {
      "cell_type": "markdown",
      "source": [
        "Godine su predstavljene u sledećim opsezima: \n",
        "\n",
        "- 21 - 25\n",
        "- 26 - 30\n",
        "- 31 - 35\n",
        "- 36 - 40\n",
        "- 41 - 45\n",
        "- 46 - 50\n",
        "- 51 - 55\n",
        "- 56 - 60\n",
        "- 61+"
      ],
      "metadata": {
        "id": "aD88DaRKjnJk"
      }
    },
    {
      "cell_type": "markdown",
      "source": [
        "Na osnovu dobijenog grafika, možemo videti da se najveći broj poznatih ličnosti nalazi u opsegu godina 31-35 i 36-40. \n",
        "\n",
        "Problem koji možemo uvideti jeste da određeni opsezi imaju veoma mali broj slika i takođe problem koji je već bio naveden a to je ručno određivanje godina poznatih ličnosti."
      ],
      "metadata": {
        "id": "wCZDujCCkBG-"
      }
    },
    {
      "cell_type": "code",
      "source": [
        "sns_age = sns.countplot(x=\"age\", data=train_data)\n",
        "sns_age.set_xticklabels(['20-25', '26-30', '31-35', '36-40', '41-45', '46-50', '51-55', '56-60', '61+'])"
      ],
      "metadata": {
        "colab": {
          "base_uri": "https://localhost:8080/",
          "height": 435
        },
        "id": "TQ1lSzT_yOP1",
        "outputId": "4da20e12-df2b-493a-b56c-88b907f80143"
      },
      "execution_count": 163,
      "outputs": [
        {
          "output_type": "execute_result",
          "data": {
            "text/plain": [
              "[Text(0, 0, '20-25'),\n",
              " Text(0, 0, '26-30'),\n",
              " Text(0, 0, '31-35'),\n",
              " Text(0, 0, '36-40'),\n",
              " Text(0, 0, '41-45'),\n",
              " Text(0, 0, '46-50'),\n",
              " Text(0, 0, '51-55'),\n",
              " Text(0, 0, '56-60'),\n",
              " Text(0, 0, '61+')]"
            ]
          },
          "metadata": {},
          "execution_count": 163
        },
        {
          "output_type": "display_data",
          "data": {
            "text/plain": [
              "<Figure size 432x288 with 1 Axes>"
            ],
            "image/png": "[encoded data removed]"
          },
          "metadata": {
            "needs_background": "light"
          }
        }
      ]
    },
    {
      "cell_type": "markdown",
      "source": [
        "Moguće vrednosti za emocije su:\n",
        "\n",
        "- Afraid\n",
        "- Angry\n",
        "- Disgusted\n",
        "- Happy\n",
        "- Neutral\n",
        "- Sad\n",
        "- Surprised\n",
        "\n",
        "Emocije su numerisane od 0-6.\n",
        "\n",
        "Javlja se sličan problem kao kod definisanja godina. Ne možemo sa sigurnošću odrediti raspoloženje poznate ličnosti na slici ili taj izbor može imati više ishoda, tako da će i u ovom slučaju kasnije doći do manje tačnosti rezultata.\n",
        "\n",
        "Takođe, određene emocije imaju veoma mali broj slika što će se kasnije odraziti na rezultate."
      ],
      "metadata": {
        "id": "4ezmOzm3ksYS"
      }
    },
    {
      "cell_type": "code",
      "source": [
        "sns_emotion = sns.countplot(x=\"emotion\", data=train_data)\n",
        "sns_emotion.set_xticklabels(['Afraid', 'Angry', 'Disgusted', 'Happy', 'Neutral', 'Sad', 'Surprised'])"
      ],
      "metadata": {
        "colab": {
          "base_uri": "https://localhost:8080/",
          "height": 401
        },
        "id": "7tk5f-JlyOSK",
        "outputId": "bd33d33c-9dc0-4710-f2fc-d4078fb9fe9c"
      },
      "execution_count": 164,
      "outputs": [
        {
          "output_type": "execute_result",
          "data": {
            "text/plain": [
              "[Text(0, 0, 'Afraid'),\n",
              " Text(0, 0, 'Angry'),\n",
              " Text(0, 0, 'Disgusted'),\n",
              " Text(0, 0, 'Happy'),\n",
              " Text(0, 0, 'Neutral'),\n",
              " Text(0, 0, 'Sad'),\n",
              " Text(0, 0, 'Surprised')]"
            ]
          },
          "metadata": {},
          "execution_count": 164
        },
        {
          "output_type": "display_data",
          "data": {
            "text/plain": [
              "<Figure size 432x288 with 1 Axes>"
            ],
            "image/png": "[encoded data removed]"
          },
          "metadata": {
            "needs_background": "light"
          }
        }
      ]
    },
    {
      "cell_type": "code",
      "source": [
        "from skimage.io import imread\n",
        "from skimage.color import rgb2gray, gray2rgb\n",
        "from skimage.transform import resize\n",
        "from PIL import Image\n",
        "import cv2\n",
        "\n",
        "#Prikaz jedne fotografije iz trening seta\n",
        "plt.figure(figsize=(5,5))\n",
        "example_img_url = '/content/data/train/madonna/httpiamediaimdbcomimagesMMVBMTANDQNTAxNDVeQTJeQWpwZBbWUMDIMjQOTYVUXCRALjpg.jpg'\n",
        "image = imread(example_img_url)\n",
        "plt.imshow(image), plt.axis('off')\n",
        "plt.show()\n",
        "print(image.shape)\n"
      ],
      "metadata": {
        "colab": {
          "base_uri": "https://localhost:8080/",
          "height": 320
        },
        "id": "DqEEyQL1yOUf",
        "outputId": "c506f14a-7e45-43aa-f31d-1df3cf0f6cb8"
      },
      "execution_count": 165,
      "outputs": [
        {
          "output_type": "display_data",
          "data": {
            "text/plain": [
              "<Figure size 360x360 with 1 Axes>"
            ],
            "image/png": "[encoded data removed]"
          },
          "metadata": {
            "needs_background": "light"
          }
        },
        {
          "output_type": "stream",
          "name": "stdout",
          "text": [
            "(317, 214, 3)\n"
          ]
        }
      ]
    },
    {
      "cell_type": "markdown",
      "source": [
        "S obzirom da nakon učitavanja slike za primer, možemo videti da se na slici ne nalazi samo lice već, u kasnijem procesu će morati biti koriščena funkcija \"extract_face\", gde će se za prosleđenu fotografiju primenom biblioteke \"MTCNN\" izvući samo lice sa fotografije, i slika će biti transformisana na prosleđenu veličinu."
      ],
      "metadata": {
        "id": "fxJa9jC_ldAL"
      }
    },
    {
      "cell_type": "code",
      "source": [
        "!pip install mtcnn\n",
        "import mtcnn\n",
        "from mtcnn.mtcnn import MTCNN\n",
        "\n",
        "def extract_face(image_file, required_size=(224, 224)):\n",
        "    # Učitavanje fotografije\n",
        "    image = imread(image_file)\n",
        "    if len(image.shape) < 3: image = gray2rgb(image) \n",
        "    else: image = image[...,:3]\n",
        "    # Kreiranje detektora\n",
        "    detector = MTCNN()\n",
        "    # Detektovanje lica na ulaznoj fotografiji\n",
        "    results = detector.detect_faces(image)\n",
        "    # Ekstraktovanje graničnog okvira sa lica\n",
        "    x1, y1, width, height = results[0]['box']\n",
        "    x1, y1 = abs(x1), abs(y1)\n",
        "    x2, y2 = x1 + width, y1 + height\n",
        "    # Ekstraktovanje lica\n",
        "    face = image[y1:y2, x1:x2]\n",
        "    # Promena veličine piksela u veličinu modela\n",
        "    return resize(face, required_size)\n",
        "\n",
        "face = extract_face(example_img_url)\n",
        "plt.figure(figsize=(5,5))\n",
        "plt.imshow(face)\n",
        "plt.show()"
      ],
      "metadata": {
        "colab": {
          "base_uri": "https://localhost:8080/",
          "height": 410
        },
        "id": "MCBce-7gyOW9",
        "outputId": "948a2ab9-675d-4a96-c256-9c5bd97d4a34"
      },
      "execution_count": 166,
      "outputs": [
        {
          "output_type": "stream",
          "name": "stdout",
          "text": [
            "Looking in indexes: https://pypi.org/simple, https://us-python.pkg.dev/colab-wheels/public/simple/\n",
            "Requirement already satisfied: mtcnn in /usr/local/lib/python3.7/dist-packages (0.1.1)\n",
            "Requirement already satisfied: keras>=2.0.0 in /usr/local/lib/python3.7/dist-packages (from mtcnn) (2.7.0)\n",
            "Requirement already satisfied: opencv-python>=4.1.0 in /usr/local/lib/python3.7/dist-packages (from mtcnn) (4.6.0.66)\n",
            "Requirement already satisfied: numpy>=1.14.5 in /usr/local/lib/python3.7/dist-packages (from opencv-python>=4.1.0->mtcnn) (1.21.6)\n"
          ]
        },
        {
          "output_type": "display_data",
          "data": {
            "text/plain": [
              "<Figure size 360x360 with 1 Axes>"
            ],
            "image/png": "[encoded data removed]"
          },
          "metadata": {
            "needs_background": "light"
          }
        }
      ]
    },
    {
      "cell_type": "markdown",
      "source": [
        "# Treniranje modela"
      ],
      "metadata": {
        "id": "cpJ42ExSzXaE"
      }
    },
    {
      "cell_type": "markdown",
      "source": [
        "Nakon učitavanja svih fotografija i analiziranja seta podataka, sledi treniranje modela. Radi boljih rezultata, za svaku od potrebnih detekcija biće kreiran poseban model.\n",
        "\n",
        "Najpre ćemo kreirati metodu za učitavanje slika i određene kolone."
      ],
      "metadata": {
        "id": "69IuUcySl9yA"
      }
    },
    {
      "cell_type": "code",
      "source": [
        "#Učitavanje slika i odgovarajuće kolone koja je prosleđena\n",
        "def get_images_and_labels(dataset, column_name, image_size):\n",
        "  data = []\n",
        "  for index, row in dataset.iterrows():\n",
        "      extracted_face = extract_face(row.image_path, image_size)\n",
        "      #Učitavanje određene detektovane slike lica, i vrednosti kolone za tu sliku\n",
        "      label = dataset[dataset['image_path']==row.image_path][column_name].values[0]\n",
        "      data.append([extracted_face, label])\n",
        "      #print(row.image_path)\n",
        "      #print(label)\n",
        "  return data"
      ],
      "metadata": {
        "id": "6qsGvL1rzWv1"
      },
      "execution_count": 167,
      "outputs": []
    },
    {
      "cell_type": "markdown",
      "source": [
        "# Detekcija godina"
      ],
      "metadata": {
        "id": "JiPbqUF2znDr"
      }
    },
    {
      "cell_type": "markdown",
      "source": [
        "Prvi model koji se kreira biće model za detekciju godina.\n",
        "\n",
        "Za izradu ovog modela biće korišćen VGG16, konvolucijska neuronska mreža. Konvolucijska neuronska mreža ima jedan input sloj, jedan output sloj, i skrivene slojeve. VGG16 mreža je trenirana na ImageNet bazi podataka. Sastoji se od 16 konvolucijskih slojeva. \n",
        "\n",
        "Kao što je gore napomenuto, ovo je pretrained model, kako bi omogućio bolje rezultate za manje setove podataka.\n",
        "\n",
        "Najpre kreiramo dva niza gde ćemo smestiti slike za treniranje i validaciju. Učitavamo godine kroz kolonu i slike se smeštaju u odgovarajući format i vrši se normalizacija deljenjem sa 255, s obzirom da je opseg RGB 0-255."
      ],
      "metadata": {
        "id": "nW1Z896gmSKy"
      }
    },
    {
      "cell_type": "code",
      "source": [
        "image_size = 224\n",
        "#Učitavanje slika i vrednosti godina\n",
        "age_training_data = get_images_and_labels(train_data, 'age', (image_size, image_size))\n",
        "\n",
        "X_Train = []\n",
        "Y_Train = []\n",
        "for img, age in age_training_data:\n",
        "  X_Train.append(img)\n",
        "  Y_Train.append(age)\n",
        "\n",
        "#Reshape-ovanje slika na dimenzije 224x224 koje prihvata VGG16 i normalizacija podataka\n",
        "X_Train = np.array(X_Train).reshape(-1, image_size, image_size, 3)\n",
        "\n",
        "X_Train = X_Train / 255\n",
        "Y_Train = np.array(Y_Train)\n",
        "\n",
        "X_Train.shape"
      ],
      "metadata": {
        "colab": {
          "base_uri": "https://localhost:8080/"
        },
        "id": "EqrIIVR8zWyi",
        "outputId": "c75e34ea-41b3-498e-f69f-06d79cb65798"
      },
      "execution_count": 168,
      "outputs": [
        {
          "output_type": "execute_result",
          "data": {
            "text/plain": [
              "(93, 224, 224, 3)"
            ]
          },
          "metadata": {},
          "execution_count": 168
        }
      ]
    },
    {
      "cell_type": "code",
      "source": [
        "#Ponavljanje postupka za učitavanje validacionih podataka\n",
        "image_size = 224\n",
        "age_validation_data = get_images_and_labels(val_data, 'age', (image_size, image_size))\n",
        "\n",
        "X_Val = []\n",
        "Y_Val = []\n",
        "for img, age in age_validation_data:\n",
        "  X_Val.append(img)\n",
        "  Y_Val.append(age)\n",
        "\n",
        "X_Val = np.array(X_Val).reshape(-1, image_size, image_size, 3)\n",
        "\n",
        "X_Val = X_Val / 255\n",
        "Y_Val = np.array(Y_Val)\n",
        "\n",
        "X_Val.shape"
      ],
      "metadata": {
        "colab": {
          "base_uri": "https://localhost:8080/"
        },
        "id": "FGZh6FvLzW1c",
        "outputId": "2ce840e2-e09f-4697-e8ed-8d63e0d9b97a"
      },
      "execution_count": 169,
      "outputs": [
        {
          "output_type": "execute_result",
          "data": {
            "text/plain": [
              "(25, 224, 224, 3)"
            ]
          },
          "metadata": {},
          "execution_count": 169
        }
      ]
    },
    {
      "cell_type": "code",
      "source": [
        "#!pip install tensorflow==2.7.0\n",
        "from tensorflow.keras.applications.vgg16 import VGG16\n",
        "\n",
        "# Učitavanje VGG16 modela\n",
        "base_model = VGG16(weights=\"imagenet\", include_top=False, input_shape=(image_size, image_size, 3))\n",
        "base_model.trainable = False\n",
        "\n",
        "# Prikaz modela bez dodatnih slojeva\n",
        "base_model.summary()"
      ],
      "metadata": {
        "colab": {
          "base_uri": "https://localhost:8080/"
        },
        "id": "pfp90ZIu1x7_",
        "outputId": "6616cbfc-c6ae-47d9-eaf8-f35ce0604f58"
      },
      "execution_count": 170,
      "outputs": [
        {
          "output_type": "stream",
          "name": "stdout",
          "text": [
            "Model: \"vgg16\"\n",
            "_________________________________________________________________\n",
            " Layer (type)                Output Shape              Param #   \n",
            "=================================================================\n",
            " input_3134 (InputLayer)     [(None, 224, 224, 3)]     0         \n",
            "                                                                 \n",
            " block1_conv1 (Conv2D)       (None, 224, 224, 64)      1792      \n",
            "                                                                 \n",
            " block1_conv2 (Conv2D)       (None, 224, 224, 64)      36928     \n",
            "                                                                 \n",
            " block1_pool (MaxPooling2D)  (None, 112, 112, 64)      0         \n",
            "                                                                 \n",
            " block2_conv1 (Conv2D)       (None, 112, 112, 128)     73856     \n",
            "                                                                 \n",
            " block2_conv2 (Conv2D)       (None, 112, 112, 128)     147584    \n",
            "                                                                 \n",
            " block2_pool (MaxPooling2D)  (None, 56, 56, 128)       0         \n",
            "                                                                 \n",
            " block3_conv1 (Conv2D)       (None, 56, 56, 256)       295168    \n",
            "                                                                 \n",
            " block3_conv2 (Conv2D)       (None, 56, 56, 256)       590080    \n",
            "                                                                 \n",
            " block3_conv3 (Conv2D)       (None, 56, 56, 256)       590080    \n",
            "                                                                 \n",
            " block3_pool (MaxPooling2D)  (None, 28, 28, 256)       0         \n",
            "                                                                 \n",
            " block4_conv1 (Conv2D)       (None, 28, 28, 512)       1180160   \n",
            "                                                                 \n",
            " block4_conv2 (Conv2D)       (None, 28, 28, 512)       2359808   \n",
            "                                                                 \n",
            " block4_conv3 (Conv2D)       (None, 28, 28, 512)       2359808   \n",
            "                                                                 \n",
            " block4_pool (MaxPooling2D)  (None, 14, 14, 512)       0         \n",
            "                                                                 \n",
            " block5_conv1 (Conv2D)       (None, 14, 14, 512)       2359808   \n",
            "                                                                 \n",
            " block5_conv2 (Conv2D)       (None, 14, 14, 512)       2359808   \n",
            "                                                                 \n",
            " block5_conv3 (Conv2D)       (None, 14, 14, 512)       2359808   \n",
            "                                                                 \n",
            " block5_pool (MaxPooling2D)  (None, 7, 7, 512)         0         \n",
            "                                                                 \n",
            "=================================================================\n",
            "Total params: 14,714,688\n",
            "Trainable params: 0\n",
            "Non-trainable params: 14,714,688\n",
            "_________________________________________________________________\n"
          ]
        }
      ]
    },
    {
      "cell_type": "code",
      "source": [
        "from tensorflow.keras import layers, models\n",
        "\n",
        "flatten_layer = layers.Flatten()\n",
        "dense_layer = layers.Dense(128, activation='relu')\n",
        "prediction_layer = layers.Dense(9, activation='softmax')\n",
        "\n",
        "#Dodavanje dodatnih slojeva na gore prikazani model, kao i poslednjeg sloja Dense 9, koji označava da postoji 9 mogućih kategorija za opsege godina.\n",
        "model_age = models.Sequential([\n",
        "    base_model,\n",
        "    flatten_layer,\n",
        "    dense_layer,\n",
        "    prediction_layer\n",
        "])\n",
        "\n",
        "model_age.summary()"
      ],
      "metadata": {
        "colab": {
          "base_uri": "https://localhost:8080/",
          "height": 235
        },
        "id": "k-4nStvL29ac",
        "outputId": "e7aa7390-8231-4347-fca3-7e1263c287c8"
      },
      "execution_count": 2,
      "outputs": [
        {
          "output_type": "error",
          "ename": "NameError",
          "evalue": "ignored",
          "traceback": [
            "\u001b[0;31m---------------------------------------------------------------------------\u001b[0m",
            "\u001b[0;31mNameError\u001b[0m                                 Traceback (most recent call last)",
            "\u001b[0;32m<ipython-input-2-f124ca4aa820>\u001b[0m in \u001b[0;36m<module>\u001b[0;34m\u001b[0m\n\u001b[1;32m      7\u001b[0m \u001b[0;31m#Dodavanje dodatnih slojeva na gore prikazani model, kao i poslednjeg sloja Dense 9, koji označava da postoji 9 mogućih kategorija za opsege godina.\u001b[0m\u001b[0;34m\u001b[0m\u001b[0;34m\u001b[0m\u001b[0;34m\u001b[0m\u001b[0m\n\u001b[1;32m      8\u001b[0m model_age = models.Sequential([\n\u001b[0;32m----> 9\u001b[0;31m     \u001b[0mbase_model\u001b[0m\u001b[0;34m,\u001b[0m\u001b[0;34m\u001b[0m\u001b[0;34m\u001b[0m\u001b[0m\n\u001b[0m\u001b[1;32m     10\u001b[0m     \u001b[0mflatten_layer\u001b[0m\u001b[0;34m,\u001b[0m\u001b[0;34m\u001b[0m\u001b[0;34m\u001b[0m\u001b[0m\n\u001b[1;32m     11\u001b[0m     \u001b[0mdense_layer\u001b[0m\u001b[0;34m,\u001b[0m\u001b[0;34m\u001b[0m\u001b[0;34m\u001b[0m\u001b[0m\n",
            "\u001b[0;31mNameError\u001b[0m: name 'base_model' is not defined"
          ]
        }
      ]
    },
    {
      "cell_type": "code",
      "source": [
        "from tensorflow.keras.utils import to_categorical\n",
        "\n",
        "#Kategorizovanje Y vrednosti na broj mogućih kategorija\n",
        "Y_Train = to_categorical(Y_Train, 9)\n",
        "Y_Val = to_categorical(Y_Val, 9)"
      ],
      "metadata": {
        "id": "0ZbRSF5x1x-m"
      },
      "execution_count": 172,
      "outputs": []
    },
    {
      "cell_type": "markdown",
      "source": [
        "Potrebno je da se izvrši treniranje modela.\n",
        "\n",
        "Što se tiče hiperparametara, za optimizator je korišćen Adam optimizator, dok su za Learning rate vršene razne izmene dok se nije došlo do najboljeg rezultata.\n",
        "\n",
        "Takođe je korišćen EarlyStopping u odnosu na val accuracy."
      ],
      "metadata": {
        "id": "7j9DxMjMnRHu"
      }
    },
    {
      "cell_type": "code",
      "source": [
        "from tensorflow.keras.callbacks import EarlyStopping\n",
        "from tensorflow.keras.optimizers import Adam\n",
        "\n",
        "#Podešavanje i treniranje modela\n",
        "model_age.compile(\n",
        "    optimizer=Adam(learning_rate=0.0005),\n",
        "    loss='categorical_crossentropy',\n",
        "    metrics=['accuracy'],\n",
        ")\n",
        "\n",
        "early_stopping = EarlyStopping(monitor='val_accuracy', mode='max', patience=5,  restore_best_weights=True)\n",
        "\n",
        "#Treniranje modela i pamćenje procesa treniranja radi kasnijeg grafičkog prikaza treniranja kroz epohe\n",
        "history = model_age.fit(X_Train, Y_Train, validation_data=(X_Val, Y_Val), epochs=10, callbacks=[early_stopping])"
      ],
      "metadata": {
        "colab": {
          "base_uri": "https://localhost:8080/",
          "height": 235
        },
        "id": "IVDLC4e-1yA1",
        "outputId": "7bdada46-ed86-4769-f4f9-35c3b57b217f"
      },
      "execution_count": 1,
      "outputs": [
        {
          "output_type": "error",
          "ename": "NameError",
          "evalue": "ignored",
          "traceback": [
            "\u001b[0;31m---------------------------------------------------------------------------\u001b[0m",
            "\u001b[0;31mNameError\u001b[0m                                 Traceback (most recent call last)",
            "\u001b[0;32m<ipython-input-1-59e1022d2351>\u001b[0m in \u001b[0;36m<module>\u001b[0;34m\u001b[0m\n\u001b[1;32m      3\u001b[0m \u001b[0;34m\u001b[0m\u001b[0m\n\u001b[1;32m      4\u001b[0m \u001b[0;31m#Podešavanje i treniranje modela\u001b[0m\u001b[0;34m\u001b[0m\u001b[0;34m\u001b[0m\u001b[0;34m\u001b[0m\u001b[0m\n\u001b[0;32m----> 5\u001b[0;31m model_age.compile(\n\u001b[0m\u001b[1;32m      6\u001b[0m     \u001b[0moptimizer\u001b[0m\u001b[0;34m=\u001b[0m\u001b[0mAdam\u001b[0m\u001b[0;34m(\u001b[0m\u001b[0mlearning_rate\u001b[0m\u001b[0;34m=\u001b[0m\u001b[0;36m0.0005\u001b[0m\u001b[0;34m)\u001b[0m\u001b[0;34m,\u001b[0m\u001b[0;34m\u001b[0m\u001b[0;34m\u001b[0m\u001b[0m\n\u001b[1;32m      7\u001b[0m     \u001b[0mloss\u001b[0m\u001b[0;34m=\u001b[0m\u001b[0;34m'categorical_crossentropy'\u001b[0m\u001b[0;34m,\u001b[0m\u001b[0;34m\u001b[0m\u001b[0;34m\u001b[0m\u001b[0m\n",
            "\u001b[0;31mNameError\u001b[0m: name 'model_age' is not defined"
          ]
        }
      ]
    },
    {
      "cell_type": "markdown",
      "source": [
        "Rezultati treniranja su veoma loši, najverovatnije zbog malog broja podataka, nedovoljno preciznog dodeljivanja informacija o broju godina, kao i malog broja slika za određene opsege godina, kao što je gore navedeno."
      ],
      "metadata": {
        "id": "pS0NV1EboWsh"
      }
    },
    {
      "cell_type": "code",
      "source": [
        "plt.plot(history.history['accuracy'])\n",
        "plt.plot(history.history['val_accuracy'])\n",
        "plt.title('Model age accuracy')\n",
        "plt.ylabel('Accuracy')\n",
        "plt.xlabel('Epoch')\n",
        "plt.legend(['Train', 'Test'], loc='upper left')\n",
        "plt.show()"
      ],
      "metadata": {
        "id": "tm_ZbjvU1yDN"
      },
      "execution_count": null,
      "outputs": []
    },
    {
      "cell_type": "markdown",
      "source": [
        "# Detekcija emocija"
      ],
      "metadata": {
        "id": "TN1mohdwO4MP"
      }
    },
    {
      "cell_type": "markdown",
      "source": [
        "Naredni model koji se kreira biće model za detekciju emocija.\n",
        "\n",
        "Za problem detekcije emocija dobre rezultate daje model ResNet50. ResNet50 mreža je takođe trenirana na ImageNet bazi podataka. Sastoji se od 50 slojeva. Kao što je gore napomenuto, ovo je takođe pretrained model, kako bi omogućio bolje rezultate za manje setove podataka. \n",
        "\n",
        "Najpre kreiramo dva niza gde ćemo smestiti slike za treniranje i validaciju. Učitavamo emocije kroz kolonu i slike se smeštaju u odgovarajući format i vrši se normalizacija deljenjem sa 255, s obzirom da je opseg RGB 0-255."
      ],
      "metadata": {
        "id": "Qz0iIgD0o3cO"
      }
    },
    {
      "cell_type": "code",
      "source": [
        "image_size = 128\n",
        "emotion_training_data = get_images_and_labels(train_data, 'emotion', (image_size, image_size))\n",
        "\n",
        "X_Train = []\n",
        "Y_Train = []\n",
        "for img, emotion in emotion_training_data:\n",
        "  X_Train.append(img)\n",
        "  Y_Train.append(emotion)\n",
        "\n",
        "X_Train = np.array(X_Train).reshape(-1, image_size, image_size, 3)\n",
        "\n",
        "X_Train = X_Train / 255\n",
        "Y_Train = np.array(Y_Train)\n",
        "\n",
        "X_Train.shape"
      ],
      "metadata": {
        "id": "LPlpn5VJ1yF4"
      },
      "execution_count": null,
      "outputs": []
    },
    {
      "cell_type": "code",
      "source": [
        "image_size = 128\n",
        "emotion_validation_data = get_images_and_labels(val_data, 'emotion', (image_size, image_size))\n",
        "\n",
        "X_Val = []\n",
        "Y_Val = []\n",
        "for img, emotion in emotion_validation_data:\n",
        "  X_Val.append(img)\n",
        "  Y_Val.append(emotion)\n",
        "\n",
        "X_Val = np.array(X_Val).reshape(-1, image_size, image_size, 3)\n",
        "\n",
        "X_Val = X_Val / 255\n",
        "Y_Val = np.array(Y_Val)\n",
        "\n",
        "X_Val.shape"
      ],
      "metadata": {
        "id": "WmRv3z88O-p1"
      },
      "execution_count": null,
      "outputs": []
    },
    {
      "cell_type": "code",
      "source": [
        "#Učitavanje ResNet50 modela\n",
        "from tensorflow.keras.applications import ResNet50\n",
        "from tensorflow.keras.models import Sequential\n",
        "import tensorflow as tf\n",
        "\n",
        "base_model= tf.keras.applications.ResNet50(include_top=False,\n",
        "                   weights='imagenet',\n",
        "                   input_shape=(image_size, image_size, 3),\n",
        "                   pooling='avg')\n",
        "\n",
        "for layer in base_model.layers:\n",
        "        layer.trainable=False"
      ],
      "metadata": {
        "id": "dCoKXWIxO-vk"
      },
      "execution_count": null,
      "outputs": []
    },
    {
      "cell_type": "code",
      "source": [
        "flatten_layer = layers.Flatten()\n",
        "dense_layer_1 = layers.Dense(256, activation='relu')\n",
        "dense_layer_2 = layers.Dense(256, activation='relu')\n",
        "prediction_layer = layers.Dense(7, activation='softmax')\n",
        "\n",
        "#Definisanje 7 izlaznih mogućnosti\n",
        "\n",
        "model_emotion = models.Sequential([\n",
        "    base_model,\n",
        "    flatten_layer,\n",
        "    dense_layer_1,\n",
        "    dense_layer_2,\n",
        "    prediction_layer\n",
        "])\n",
        "\n",
        "model_emotion.summary()"
      ],
      "metadata": {
        "id": "RqfGpDFKO-0c"
      },
      "execution_count": null,
      "outputs": []
    },
    {
      "cell_type": "code",
      "source": [
        "Y_Train = to_categorical(Y_Train, 7)\n",
        "Y_Val = to_categorical(Y_Val, 7)"
      ],
      "metadata": {
        "id": "6DhNNtezO-4_"
      },
      "execution_count": null,
      "outputs": []
    },
    {
      "cell_type": "code",
      "source": [
        "#Treniranje modela\n",
        "model_emotion.compile(\n",
        "    optimizer=Adam(learning_rate=0.0001),\n",
        "    loss='categorical_crossentropy',\n",
        "    metrics=['accuracy'],\n",
        ")\n",
        "\n",
        "early_stopping = EarlyStopping(monitor='val_accuracy', mode='max', patience=5,  restore_best_weights=True)\n",
        "\n",
        "history = model_emotion.fit(X_Train, Y_Train, validation_data=(X_Val, Y_Val), epochs=20, callbacks=[early_stopping])"
      ],
      "metadata": {
        "id": "I0QeBqPHO_Du"
      },
      "execution_count": null,
      "outputs": []
    },
    {
      "cell_type": "markdown",
      "source": [
        "Model za detekciju emocija je dao ne tako dobar rezultat, gde Accuracy iznosi 0.5376.\n",
        "Ovakvom rezultatu je prethodio mali broj slika i nedovoljna preciznost pri ručnom dodeljivanju emocija."
      ],
      "metadata": {
        "id": "YUCzE_3-p381"
      }
    },
    {
      "cell_type": "code",
      "source": [
        "plt.plot(history.history['accuracy'])\n",
        "plt.plot(history.history['val_accuracy'])\n",
        "plt.title('Model emotion accuracy')\n",
        "plt.ylabel('Accuracy')\n",
        "plt.xlabel('Epoch')\n",
        "plt.legend(['Train', 'Test'], loc='upper left')\n",
        "plt.show()"
      ],
      "metadata": {
        "id": "RqRUbMovO_Ge"
      },
      "execution_count": null,
      "outputs": []
    },
    {
      "cell_type": "markdown",
      "source": [
        "# Detekcija pola"
      ],
      "metadata": {
        "id": "DwFU4AkgT6vh"
      }
    },
    {
      "cell_type": "markdown",
      "source": [
        "Naredni model jeste model za detekciju pola.\n",
        "\n",
        "Za problem detekcije pola dobre rezultate takođe daje model ResNet50, te su određeni koraci slični kao kod modela za detekciju emocija.\n",
        "\n",
        "Najpre kreiramo dva niza gde ćemo smestiti slike za treniranje i validaciju. Učitavamo pol kroz kolonu i slike se smeštaju u odgovarajući format i vrši se normalizacija deljenjem sa 255, s obzirom da je opseg RGB 0-255."
      ],
      "metadata": {
        "id": "dKYLtDBMqmUt"
      }
    },
    {
      "cell_type": "code",
      "source": [
        "image_size = 128\n",
        "gender_training_data = get_images_and_labels(train_data, 'gender', (image_size, image_size))\n",
        "\n",
        "X_Train = []\n",
        "Y_Train = []\n",
        "for img, gender in gender_training_data:\n",
        "  X_Train.append(img)\n",
        "  Y_Train.append(gender)\n",
        "\n",
        "X_Train = np.array(X_Train).reshape(-1, image_size, image_size, 3)\n",
        "\n",
        "X_Train = X_Train / 255\n",
        "Y_Train = np.array(Y_Train)\n",
        "\n",
        "X_Train.shape"
      ],
      "metadata": {
        "id": "0bOt06yUTm9G"
      },
      "execution_count": null,
      "outputs": []
    },
    {
      "cell_type": "code",
      "source": [
        "image_size = 128\n",
        "gender_validation_data = get_images_and_labels(val_data, 'gender', (image_size, image_size))\n",
        "\n",
        "X_Val = []\n",
        "Y_Val = []\n",
        "for img, gender in gender_validation_data:\n",
        "  X_Val.append(img)\n",
        "  Y_Val.append(gender)\n",
        "\n",
        "X_Val = np.array(X_Val).reshape(-1, image_size, image_size, 3)\n",
        "\n",
        "X_Val = X_Val / 255\n",
        "Y_Val = np.array(Y_Val)\n",
        "\n",
        "X_Val.shape"
      ],
      "metadata": {
        "id": "jKax7I9bTm_5"
      },
      "execution_count": null,
      "outputs": []
    },
    {
      "cell_type": "code",
      "source": [
        "#Učitavanje ResNet50 modela, prosleđivanje veličine slika, koje su o ovom slučaju 128x128\n",
        "base_model = tf.keras.applications.ResNet50(include_top=False,\n",
        "                   weights='imagenet',\n",
        "                   input_shape=(image_size, image_size, 3),\n",
        "                   pooling='avg')\n",
        "\n",
        "for layer in base_model.layers:\n",
        "        layer.trainable=False"
      ],
      "metadata": {
        "id": "lt6QKHQPTnCe"
      },
      "execution_count": null,
      "outputs": []
    },
    {
      "cell_type": "code",
      "source": [
        "flatten_layer = layers.Flatten()\n",
        "dense_layer_1 = layers.Dense(256, activation='relu')\n",
        "dense_layer_2 = layers.Dense(256, activation='relu')\n",
        "prediction_layer = layers.Dense(2, activation='softmax')\n",
        "\n",
        "#Kreiranje modela dodavanjem dodatnih slojeva, i podešavanje poslednjog sloja na dve vrednosti\n",
        "model_gender = models.Sequential([\n",
        "    base_model,\n",
        "    flatten_layer,\n",
        "    dense_layer_1,\n",
        "    dense_layer_2,\n",
        "    prediction_layer\n",
        "])\n",
        "\n",
        "model_gender.summary()"
      ],
      "metadata": {
        "id": "s7T-e6WQTnFL"
      },
      "execution_count": null,
      "outputs": []
    },
    {
      "cell_type": "code",
      "source": [
        "Y_Train = to_categorical(Y_Train, 2)\n",
        "Y_Val = to_categorical(Y_Val, 2)"
      ],
      "metadata": {
        "id": "Md9zRkLzTnH0"
      },
      "execution_count": null,
      "outputs": []
    },
    {
      "cell_type": "code",
      "source": [
        "#Dodavanje optimizera, early stopping-a i treniranje modela\n",
        "model_gender.compile(\n",
        "    optimizer=Adam(learning_rate=0.001),\n",
        "    loss='categorical_crossentropy',\n",
        "    metrics=['accuracy'],\n",
        ")\n",
        "\n",
        "early_stopping = EarlyStopping(monitor='val_accuracy', mode='max', patience=5,  restore_best_weights=True)\n",
        "\n",
        "history = model_gender.fit(X_Train, Y_Train, validation_data=(X_Val, Y_Val), epochs=20, callbacks=[early_stopping])"
      ],
      "metadata": {
        "id": "v_kNJE_TXHf1"
      },
      "execution_count": null,
      "outputs": []
    },
    {
      "cell_type": "markdown",
      "source": [
        "Rezultati modela za detekciju pola su dali malo bolje ali ne toliko značajne rezultate, gde je Val_accuracy 0.60, dok Accuracy iznosi 0.5591."
      ],
      "metadata": {
        "id": "-y8N4cPkq-1Q"
      }
    },
    {
      "cell_type": "code",
      "source": [
        "plt.plot(history.history['accuracy'])\n",
        "plt.plot(history.history['val_accuracy'])\n",
        "plt.title('Model gender accuracy')\n",
        "plt.ylabel('Accuracy')\n",
        "plt.xlabel('Epoch')\n",
        "plt.legend(['Train', 'Test'], loc='upper left')\n",
        "plt.show()"
      ],
      "metadata": {
        "id": "-6Oj5Y3BXHib"
      },
      "execution_count": null,
      "outputs": []
    },
    {
      "cell_type": "markdown",
      "source": [
        "# Testiranje"
      ],
      "metadata": {
        "id": "Z2vwcWtFX3ZH"
      }
    },
    {
      "cell_type": "markdown",
      "source": [
        "U narednom delu biće istestirani gore kreirani modeli, kako bi se utvrdilo koliko dobro vrše detekciju nad slikama koje do sad modeli nisu videli. Kao podloga za iscrtavanje okvira i detektovanja lica, korišćen je primer iz rada [4]."
      ],
      "metadata": {
        "id": "ZUFXvdInrXL9"
      }
    },
    {
      "cell_type": "code",
      "source": [
        "import sys\n",
        "import dlib\n",
        "from glob import glob\n",
        "\n",
        "k = width = 8\n",
        "margin = 0.4\n",
        "img_size = 128\n",
        "\n",
        "# Funkcija za iscrtavanje graničnih okvira sa oznakom godina/pola\n",
        "def draw_label(image, point, label, font=cv2.FONT_HERSHEY_SIMPLEX, font_scale=1.0, thickness=2):\n",
        "    size = cv2.getTextSize(label, font, font_scale, thickness)[0]\n",
        "    x, y = point\n",
        "    \n",
        "    if prediction_gender_index:\n",
        "        cv2.rectangle(image, (x, y - size[1]), (x + size[0], y), (255, 0, 0), cv2.FILLED)\n",
        "    else:\n",
        "        cv2.rectangle(image, (x, y - size[1]), (x + size[0], y), (30, 144, 255), cv2.FILLED)\n",
        "\n",
        "    cv2.putText(image, label, point, font, font_scale, (255, 255, 255), thickness, lineType=cv2.LINE_AA)\n",
        "\n",
        "# Frontalni detektor lica za otkrivanje i izdvajanje lica sa ulaznih fotografija\n",
        "detector = dlib.get_frontal_face_detector()\n",
        "\n",
        "plt.figure(figsize=(14,7))\n",
        "plt.subplots_adjust(0,0,1,1,0.05,0.05)\n",
        "j = 1\n",
        "\n",
        "\n",
        "#Definisanje 2 slike za testiranje\n",
        "test_list = ['https://img.freepik.com/free-photo/portrait-white-man-isolated_53876-40306.jpg', \n",
        "             'https://previews.123rf.com/images/wisiel/wisiel1302/wisiel130200034/17625502-woman-with-angry-face-on-white-background.jpg']\n",
        "\n",
        "\n",
        "#Definisanje mogućih opcija za emocije i opsege godina\n",
        "emotions_list = ['Afraid', 'Angry', 'Disgusted', 'Happy', 'Neutral', 'Sad', 'Surprised']\n",
        "ages_list = ['20-25', '26-30', '31-35', '36-40', '41-45', '46-50', '51-55', '56-60', '61+']\n",
        "\n",
        "\n",
        "for img_file in test_list:\n",
        "  img = imread(img_file)\n",
        "  img_h, img_w, _ = np.shape(img)\n",
        "  r = 640 / max(img_h, img_w)\n",
        "  img = cv2.resize(img, (int(img_w * r), int(img_h * r)))\n",
        "\n",
        "  # Detekcija lica korišćenjem dlib detektora\n",
        "  detected = detector(img, 0) #0)\n",
        "\n",
        "  faces = np.empty((len(detected), img_size, img_size, 3))\n",
        "      \n",
        "  if len(detected) > 0:\n",
        "      for i, d in enumerate(detected):\n",
        "          x1, y1, x2, y2, w, h = d.left(), d.top(), d.right() + 1, d.bottom() + 1, d.width(), d.height()\n",
        "          xw1 = max(int(x1 - margin * w), 0)\n",
        "          yw1 = max(int(y1 - margin * h), 0)\n",
        "          xw2 = min(int(x2 + margin * w), img_w - 1)\n",
        "          yw2 = min(int(y2 + margin * h), img_h - 1)\n",
        "          faces[i, :, :, :] = cv2.resize(img[yw1:yw2 + 1, xw1:xw2 + 1, :], (img_size, img_size))\n",
        "\n",
        "\n",
        "# Predikcija godina, pola i emocija detektovanih lica\n",
        "      prediction_gender = model_gender.predict(np.asarray(faces))\n",
        "      prediction_gender_index = np.argmax(prediction_gender)\n",
        "\n",
        "      if prediction_gender_index:\n",
        "          cv2.rectangle(img, (x1, y1), (x2, y2), (255, 0, 0), 2)\n",
        "      else:\n",
        "          cv2.rectangle(img, (x1, y1), (x2, y2), (30, 144, 255), 2)\n",
        "\n",
        "      prediction_emotion = model_emotion.predict(np.asarray(faces))\n",
        "      prediction_emotion_index = np.argmax(prediction_emotion)\n",
        "\n",
        "      image_size = 224\n",
        "      faces = np.empty((len(detected), image_size, image_size, 3))\n",
        "      faces[0, :, :, :] = cv2.resize(img[yw1:yw2 + 1, xw1:xw2 + 1, :], (image_size, image_size))\n",
        "      prediction_age = model_age.predict(np.asarray(faces))\n",
        "      prediction_age_index = np.argmax(prediction_age)\n",
        "\n",
        "      # Iscrtavanje rezultata\n",
        "      for i, d in enumerate(detected):      \n",
        "        label = \"{} {} {}\".format(ages_list[prediction_age_index], \"Male\" if prediction_gender_index == 0 else \"Female\", emotions_list[prediction_emotion_index])  \n",
        "        draw_label(img, (d.left(), d.top()), label)\n",
        "\n",
        "  plt.subplot(1,2,j), plt.imshow(img), plt.axis('off')\n",
        "  j += 1\n",
        "\n",
        "plt.show()\n",
        "\n",
        "\n",
        "\n"
      ],
      "metadata": {
        "id": "FoSjjaC7XHlE"
      },
      "execution_count": null,
      "outputs": []
    },
    {
      "cell_type": "markdown",
      "source": [
        "Rezultati za prvu sliku su dobri, gde je otprilike pogođen opseg godina, emocija, dok je pol skroz tačan. Međutim, na drugoj slici, iz nekog razloga, pol je potpuno promašen, dok za emocije i godine možemo reći da su približno tačni."
      ],
      "metadata": {
        "id": "HwGIvqO3gA5G"
      }
    },
    {
      "cell_type": "markdown",
      "source": [
        "# Zaključak"
      ],
      "metadata": {
        "id": "AQWs0Y-zr4zJ"
      }
    },
    {
      "cell_type": "markdown",
      "source": [
        "Detekcija godina, pola i emocija nije bio lak zadatak, ali je bio izazovan i moglo se naučiti dosta iz njega. \n",
        "Prvobitni potencijalni problem koji je uočen je na kraju i dao svoj udeo u rezultatima i taj mali broj slika bez opisa i bilo kakvih informacija o samim godinama, polu i emocijama poznatih ličnosti sa slika je predstavljao veliki problem na kraju testiranja. \n",
        "To možemo uvideti u totalnom promašaju pola na drugoj slici iako je model za detekciju pola imao najbolje rezultate prilikom treniranja.\n",
        "Najveći izazovi su bili ručno dodavanje informacija o poznatim ličnostima, biranje najpogodnijih modela u cilju dobijanja najboljih rezultata."
      ],
      "metadata": {
        "id": "5ipbppwir8rx"
      }
    },
    {
      "cell_type": "markdown",
      "source": [
        "# Reference\n"
      ],
      "metadata": {
        "id": "_44-2YnUs_s0"
      }
    },
    {
      "cell_type": "markdown",
      "source": [
        "[1] Adenowo, A. A., & Adewole, A. O. (2020). Performance Evaluation of Deep Learning Method for Age, Gender and Emotion Recognition Tasks.\n",
        "\n",
        "[2] https://keras.io/\n",
        "\n",
        "[3] Theckedath, D., & Sedamkar, R. R. (2020).Detecting affect states using VGG16, ResNet50 and SE-ResNet50 networks. SN Computer Science, 1(2), 1-7.\n",
        "\n",
        "[4] Vežbe 11 iz predmeta Principi prezentacije i prepoznavanje oblika\n",
        "\n",
        "[5] Dataset: https://drive.google.com/file/d/1vIyvXtTerVUWVuRRPGcFgXTkgUgM-d9U/view?usp=sharing"
      ],
      "metadata": {
        "id": "BRTgxnK8tCk4"
      }
    }
  ]
}